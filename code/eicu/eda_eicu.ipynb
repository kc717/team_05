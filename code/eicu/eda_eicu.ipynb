{
 "cells": [
  {
   "cell_type": "markdown",
   "id": "2884ce9a",
   "metadata": {},
   "source": [
    "# eICU Dataset Exploratory Analysis\n",
    "\n",
    "This notebook loads the `eICU_data.csv.gz` file and provides a brief overview of its structure and key clinical features.\n"
   ]
  },
  {
   "cell_type": "code",
   "execution_count": 1,
   "id": "be179e25",
   "metadata": {
    "execution": {
     "iopub.execute_input": "2025-08-03T15:57:49.413448Z",
     "iopub.status.busy": "2025-08-03T15:57:49.413265Z",
     "iopub.status.idle": "2025-08-03T15:57:49.870647Z",
     "shell.execute_reply": "2025-08-03T15:57:49.869911Z"
    }
   },
   "outputs": [],
   "source": [
    "import pandas as pd\n",
    "import pathlib\n"
   ]
  },
  {
   "cell_type": "code",
   "execution_count": 2,
   "id": "3af48156",
   "metadata": {
    "execution": {
     "iopub.execute_input": "2025-08-03T15:57:49.873426Z",
     "iopub.status.busy": "2025-08-03T15:57:49.873131Z",
     "iopub.status.idle": "2025-08-03T15:57:56.200813Z",
     "shell.execute_reply": "2025-08-03T15:57:56.200092Z"
    }
   },
   "outputs": [
    {
     "name": "stdout",
     "output_type": "stream",
     "text": [
      "(1206142, 28)\n"
     ]
    },
    {
     "data": {
      "text/html": [
       "<div>\n",
       "<style scoped>\n",
       "    .dataframe tbody tr th:only-of-type {\n",
       "        vertical-align: middle;\n",
       "    }\n",
       "\n",
       "    .dataframe tbody tr th {\n",
       "        vertical-align: top;\n",
       "    }\n",
       "\n",
       "    .dataframe thead th {\n",
       "        text-align: right;\n",
       "    }\n",
       "</style>\n",
       "<table border=\"1\" class=\"dataframe\">\n",
       "  <thead>\n",
       "    <tr style=\"text-align: right;\">\n",
       "      <th></th>\n",
       "      <th>hospital_id</th>\n",
       "      <th>patient_id</th>\n",
       "      <th>hospitalization_id</th>\n",
       "      <th>recorded_dttm</th>\n",
       "      <th>ARDS_onset_time</th>\n",
       "      <th>time_from_ARDS_onset</th>\n",
       "      <th>APACHE</th>\n",
       "      <th>sex</th>\n",
       "      <th>age_at_admission</th>\n",
       "      <th>ethinicity</th>\n",
       "      <th>...</th>\n",
       "      <th>height_cm</th>\n",
       "      <th>weight_kg</th>\n",
       "      <th>nmb_used</th>\n",
       "      <th>cisatracurium_dose</th>\n",
       "      <th>vecuronium_dose</th>\n",
       "      <th>rocuronium_dose</th>\n",
       "      <th>atracurium_dose</th>\n",
       "      <th>pancuronium_dose</th>\n",
       "      <th>prone_flag</th>\n",
       "      <th>new_tracheostomy</th>\n",
       "    </tr>\n",
       "  </thead>\n",
       "  <tbody>\n",
       "    <tr>\n",
       "      <th>0</th>\n",
       "      <td>2000623</td>\n",
       "      <td>11227959.0</td>\n",
       "      <td>9462077</td>\n",
       "      <td>2023-01-01 03:13:00</td>\n",
       "      <td>0</td>\n",
       "      <td>193.0</td>\n",
       "      <td>NaN</td>\n",
       "      <td>Female</td>\n",
       "      <td>88</td>\n",
       "      <td>Caucasian</td>\n",
       "      <td>...</td>\n",
       "      <td>159.0</td>\n",
       "      <td>52.0</td>\n",
       "      <td>0.0</td>\n",
       "      <td>0.0</td>\n",
       "      <td>0.0</td>\n",
       "      <td>0.0</td>\n",
       "      <td>0.0</td>\n",
       "      <td>0.0</td>\n",
       "      <td>0</td>\n",
       "      <td>0</td>\n",
       "    </tr>\n",
       "    <tr>\n",
       "      <th>1</th>\n",
       "      <td>2000623</td>\n",
       "      <td>11227959.0</td>\n",
       "      <td>9462077</td>\n",
       "      <td>2023-01-01 06:10:00</td>\n",
       "      <td>0</td>\n",
       "      <td>370.0</td>\n",
       "      <td>NaN</td>\n",
       "      <td>Female</td>\n",
       "      <td>88</td>\n",
       "      <td>Caucasian</td>\n",
       "      <td>...</td>\n",
       "      <td>159.0</td>\n",
       "      <td>52.0</td>\n",
       "      <td>0.0</td>\n",
       "      <td>0.0</td>\n",
       "      <td>0.0</td>\n",
       "      <td>0.0</td>\n",
       "      <td>0.0</td>\n",
       "      <td>0.0</td>\n",
       "      <td>0</td>\n",
       "      <td>0</td>\n",
       "    </tr>\n",
       "    <tr>\n",
       "      <th>2</th>\n",
       "      <td>2000623</td>\n",
       "      <td>11227959.0</td>\n",
       "      <td>9462077</td>\n",
       "      <td>2023-01-01 10:03:00</td>\n",
       "      <td>0</td>\n",
       "      <td>603.0</td>\n",
       "      <td>NaN</td>\n",
       "      <td>Female</td>\n",
       "      <td>88</td>\n",
       "      <td>Caucasian</td>\n",
       "      <td>...</td>\n",
       "      <td>159.0</td>\n",
       "      <td>52.0</td>\n",
       "      <td>0.0</td>\n",
       "      <td>0.0</td>\n",
       "      <td>0.0</td>\n",
       "      <td>0.0</td>\n",
       "      <td>0.0</td>\n",
       "      <td>0.0</td>\n",
       "      <td>0</td>\n",
       "      <td>0</td>\n",
       "    </tr>\n",
       "    <tr>\n",
       "      <th>3</th>\n",
       "      <td>2000623</td>\n",
       "      <td>11227959.0</td>\n",
       "      <td>9462077</td>\n",
       "      <td>2023-01-01 11:13:00</td>\n",
       "      <td>0</td>\n",
       "      <td>673.0</td>\n",
       "      <td>NaN</td>\n",
       "      <td>Female</td>\n",
       "      <td>88</td>\n",
       "      <td>Caucasian</td>\n",
       "      <td>...</td>\n",
       "      <td>159.0</td>\n",
       "      <td>52.0</td>\n",
       "      <td>0.0</td>\n",
       "      <td>0.0</td>\n",
       "      <td>0.0</td>\n",
       "      <td>0.0</td>\n",
       "      <td>0.0</td>\n",
       "      <td>0.0</td>\n",
       "      <td>0</td>\n",
       "      <td>0</td>\n",
       "    </tr>\n",
       "    <tr>\n",
       "      <th>4</th>\n",
       "      <td>2000623</td>\n",
       "      <td>11227959.0</td>\n",
       "      <td>9462077</td>\n",
       "      <td>2023-01-01 11:21:00</td>\n",
       "      <td>0</td>\n",
       "      <td>681.0</td>\n",
       "      <td>NaN</td>\n",
       "      <td>Female</td>\n",
       "      <td>88</td>\n",
       "      <td>Caucasian</td>\n",
       "      <td>...</td>\n",
       "      <td>159.0</td>\n",
       "      <td>52.0</td>\n",
       "      <td>0.0</td>\n",
       "      <td>0.0</td>\n",
       "      <td>0.0</td>\n",
       "      <td>0.0</td>\n",
       "      <td>0.0</td>\n",
       "      <td>0.0</td>\n",
       "      <td>0</td>\n",
       "      <td>0</td>\n",
       "    </tr>\n",
       "  </tbody>\n",
       "</table>\n",
       "<p>5 rows × 28 columns</p>\n",
       "</div>"
      ],
      "text/plain": [
       "   hospital_id  patient_id  hospitalization_id        recorded_dttm  \\\n",
       "0      2000623  11227959.0             9462077  2023-01-01 03:13:00   \n",
       "1      2000623  11227959.0             9462077  2023-01-01 06:10:00   \n",
       "2      2000623  11227959.0             9462077  2023-01-01 10:03:00   \n",
       "3      2000623  11227959.0             9462077  2023-01-01 11:13:00   \n",
       "4      2000623  11227959.0             9462077  2023-01-01 11:21:00   \n",
       "\n",
       "   ARDS_onset_time  time_from_ARDS_onset  APACHE     sex  age_at_admission  \\\n",
       "0                0                 193.0     NaN  Female                88   \n",
       "1                0                 370.0     NaN  Female                88   \n",
       "2                0                 603.0     NaN  Female                88   \n",
       "3                0                 673.0     NaN  Female                88   \n",
       "4                0                 681.0     NaN  Female                88   \n",
       "\n",
       "  ethinicity  ... height_cm weight_kg  nmb_used  cisatracurium_dose  \\\n",
       "0  Caucasian  ...     159.0      52.0       0.0                 0.0   \n",
       "1  Caucasian  ...     159.0      52.0       0.0                 0.0   \n",
       "2  Caucasian  ...     159.0      52.0       0.0                 0.0   \n",
       "3  Caucasian  ...     159.0      52.0       0.0                 0.0   \n",
       "4  Caucasian  ...     159.0      52.0       0.0                 0.0   \n",
       "\n",
       "   vecuronium_dose  rocuronium_dose  atracurium_dose  pancuronium_dose  \\\n",
       "0              0.0              0.0              0.0               0.0   \n",
       "1              0.0              0.0              0.0               0.0   \n",
       "2              0.0              0.0              0.0               0.0   \n",
       "3              0.0              0.0              0.0               0.0   \n",
       "4              0.0              0.0              0.0               0.0   \n",
       "\n",
       "   prone_flag  new_tracheostomy  \n",
       "0           0                 0  \n",
       "1           0                 0  \n",
       "2           0                 0  \n",
       "3           0                 0  \n",
       "4           0                 0  \n",
       "\n",
       "[5 rows x 28 columns]"
      ]
     },
     "execution_count": 2,
     "metadata": {},
     "output_type": "execute_result"
    }
   ],
   "source": [
    "data_path = pathlib.Path('../../data/raw/eICU_data.csv.gz')\n",
    "# Load compressed CSV\n",
    "data = pd.read_csv(data_path)\n",
    "print(data.shape)\n",
    "data.head()"
   ]
  },
  {
   "cell_type": "markdown",
   "id": "cb047324",
   "metadata": {},
   "source": [
    "## Column completeness"
   ]
  },
  {
   "cell_type": "code",
   "execution_count": 3,
   "id": "f77cea4b",
   "metadata": {
    "execution": {
     "iopub.execute_input": "2025-08-03T15:57:56.202784Z",
     "iopub.status.busy": "2025-08-03T15:57:56.202578Z",
     "iopub.status.idle": "2025-08-03T15:57:56.480423Z",
     "shell.execute_reply": "2025-08-03T15:57:56.479844Z"
    }
   },
   "outputs": [
    {
     "data": {
      "text/plain": [
       "pao2                    9.388505e-01\n",
       "lmp_set                 9.345624e-01\n",
       "spo2                    7.272245e-01\n",
       "peep                    6.625820e-01\n",
       "fio2_set                2.667140e-01\n",
       "APACHE                  1.919641e-01\n",
       "respiratory_device      1.072187e-01\n",
       "ethinicity              8.230374e-03\n",
       "height_cm               3.322163e-03\n",
       "weight_kg               1.026413e-03\n",
       "disposition_category    8.290898e-07\n",
       "recorded_dttm           0.000000e+00\n",
       "age_at_admission        0.000000e+00\n",
       "ARDS_onset_time         0.000000e+00\n",
       "time_from_ARDS_onset    0.000000e+00\n",
       "sex                     0.000000e+00\n",
       "hospital_id             0.000000e+00\n",
       "patient_id              0.000000e+00\n",
       "hospitalization_id      0.000000e+00\n",
       "ecmo_flag               0.000000e+00\n",
       "dtype: float64"
      ]
     },
     "execution_count": 3,
     "metadata": {},
     "output_type": "execute_result"
    }
   ],
   "source": [
    "data.isnull().mean().sort_values(ascending=False).head(20)"
   ]
  },
  {
   "cell_type": "markdown",
   "id": "150b2fbb",
   "metadata": {},
   "source": [
    "## Patient and hospitalisation counts"
   ]
  },
  {
   "cell_type": "code",
   "execution_count": 4,
   "id": "74fe003f",
   "metadata": {
    "execution": {
     "iopub.execute_input": "2025-08-03T15:57:56.482274Z",
     "iopub.status.busy": "2025-08-03T15:57:56.482090Z",
     "iopub.status.idle": "2025-08-03T15:57:56.503007Z",
     "shell.execute_reply": "2025-08-03T15:57:56.502480Z"
    }
   },
   "outputs": [
    {
     "data": {
      "text/plain": [
       "{'unique_patients': 16269, 'unique_hospitalizations': 15498}"
      ]
     },
     "execution_count": 4,
     "metadata": {},
     "output_type": "execute_result"
    }
   ],
   "source": [
    "n_patients = data['patient_id'].nunique()\n",
    "n_hosp = data['hospitalization_id'].nunique()\n",
    "{'unique_patients': n_patients, 'unique_hospitalizations': n_hosp}"
   ]
  },
  {
   "cell_type": "markdown",
   "id": "b4896aed",
   "metadata": {},
   "source": [
    "## Proning and outcomes"
   ]
  },
  {
   "cell_type": "code",
   "execution_count": 5,
   "id": "b6242e63",
   "metadata": {
    "execution": {
     "iopub.execute_input": "2025-08-03T15:57:56.504948Z",
     "iopub.status.busy": "2025-08-03T15:57:56.504778Z",
     "iopub.status.idle": "2025-08-03T15:57:56.525275Z",
     "shell.execute_reply": "2025-08-03T15:57:56.524710Z"
    }
   },
   "outputs": [
    {
     "data": {
      "text/plain": [
       "prone_flag\n",
       "0    14660\n",
       "1      838\n",
       "Name: count, dtype: int64"
      ]
     },
     "execution_count": 5,
     "metadata": {},
     "output_type": "execute_result"
    }
   ],
   "source": [
    "proning = data.groupby('hospitalization_id')['prone_flag'].max().value_counts()\n",
    "proning"
   ]
  },
  {
   "cell_type": "code",
   "execution_count": 6,
   "id": "832260b1",
   "metadata": {
    "execution": {
     "iopub.execute_input": "2025-08-03T15:57:56.527321Z",
     "iopub.status.busy": "2025-08-03T15:57:56.527149Z",
     "iopub.status.idle": "2025-08-03T15:57:56.596951Z",
     "shell.execute_reply": "2025-08-03T15:57:56.596349Z"
    }
   },
   "outputs": [
    {
     "data": {
      "text/plain": [
       "disposition_category\n",
       "Alive      886625\n",
       "Expired    319516\n",
       "Name: count, dtype: int64"
      ]
     },
     "execution_count": 6,
     "metadata": {},
     "output_type": "execute_result"
    }
   ],
   "source": [
    "outcomes = data['disposition_category'].value_counts()\n",
    "outcomes.head()"
   ]
  }
 ],
 "metadata": {
  "language_info": {
   "codemirror_mode": {
    "name": "ipython",
    "version": 3
   },
   "file_extension": ".py",
   "mimetype": "text/x-python",
   "name": "python",
   "nbconvert_exporter": "python",
   "pygments_lexer": "ipython3",
   "version": "3.11.12"
  }
 },
 "nbformat": 4,
 "nbformat_minor": 5
}
